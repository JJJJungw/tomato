{
 "cells": [
  {
   "cell_type": "code",
   "execution_count": 27,
   "metadata": {},
   "outputs": [],
   "source": [
    "import requests\n",
    "import pprint\n",
    "import json\n",
    "import pandas as pd   \n",
    "from bs4 import BeautifulSoup  "
   ]
  },
  {
   "cell_type": "code",
   "execution_count": 26,
   "metadata": {},
   "outputs": [
    {
     "name": "stdout",
     "output_type": "stream",
     "text": [
      "Collecting bs4\n",
      "  Downloading bs4-0.0.2-py2.py3-none-any.whl.metadata (411 bytes)\n",
      "Collecting beautifulsoup4 (from bs4)\n",
      "  Using cached beautifulsoup4-4.12.3-py3-none-any.whl.metadata (3.8 kB)\n",
      "Collecting soupsieve>1.2 (from beautifulsoup4->bs4)\n",
      "  Using cached soupsieve-2.6-py3-none-any.whl.metadata (4.6 kB)\n",
      "Downloading bs4-0.0.2-py2.py3-none-any.whl (1.2 kB)\n",
      "Using cached beautifulsoup4-4.12.3-py3-none-any.whl (147 kB)\n",
      "Using cached soupsieve-2.6-py3-none-any.whl (36 kB)\n",
      "Installing collected packages: soupsieve, beautifulsoup4, bs4\n",
      "Successfully installed beautifulsoup4-4.12.3 bs4-0.0.2 soupsieve-2.6\n",
      "Note: you may need to restart the kernel to use updated packages.\n"
     ]
    }
   ],
   "source": [
    "pip install bs4"
   ]
  },
  {
   "cell_type": "code",
   "execution_count": 33,
   "metadata": {},
   "outputs": [
    {
     "name": "stdout",
     "output_type": "stream",
     "text": [
      "b'<?xml version=\"1.0\" encoding=\"UTF-8\" standalone=\"yes\"?>\\n<response><header><resultCode>00</resultCode><resultMsg>OK</resultMsg></header><body><pageNo>1</pageNo><totalCount>0</totalCount><items></items><numOfRows>10</numOfRows></body></response>'\n"
     ]
    }
   ],
   "source": [
    "import requests\n",
    "\n",
    "url = 'http://apis.data.go.kr/1390000/SmartFarmdata/envdatarqst'\n",
    "params ={'serviceKey' : '+I0HNxU77s40DXBKvkkNWXTCMnvbekcwiKpLxPRY7tMNkohAsUZ5jfYUG0em7RAQ+30DyI/wl4T4cGF7FjbwYw==', 'pageSize' : '10', 'pageNo' : '1', 'searchFrmhsCode' : 'Testfarm01', 'searchMeasDt' : '2019010100', 'returnType' : 'xml' }\n",
    "\n",
    "response = requests.get(url, params=params)\n",
    "print(response.content)"
   ]
  },
  {
   "cell_type": "code",
   "execution_count": null,
   "metadata": {},
   "outputs": [],
   "source": []
  },
  {
   "cell_type": "code",
   "execution_count": 9,
   "metadata": {},
   "outputs": [
    {
     "name": "stdout",
     "output_type": "stream",
     "text": [
      "                  measDate fatrCode fatrCodeNm  senVal\n",
      "0      2021-09-13 00:00:00       CI      내부CO2   426.0\n",
      "1      2021-09-13 00:00:00       TI       내부온도    20.0\n",
      "2      2021-09-13 01:00:00       CI      내부CO2   463.0\n",
      "3      2021-09-13 01:00:00       TI       내부온도    20.0\n",
      "4      2021-09-13 02:00:00       CI      내부CO2   446.0\n",
      "...                    ...      ...        ...     ...\n",
      "74946  2022-07-30 23:00:00       TE       외부온도    27.0\n",
      "74947  2022-07-30 23:00:00       TI       내부온도    28.0\n",
      "74948  2022-07-30 23:00:00       TL       지중온도     0.0\n",
      "74949  2022-07-30 23:00:00       WD       외부풍향    90.0\n",
      "74950  2022-07-30 23:00:00       WS       외부풍속     0.0\n",
      "\n",
      "[74951 rows x 4 columns]\n"
     ]
    }
   ],
   "source": [
    "df = df.drop(columns=['statusCode', 'statusMessage', 'fcltyId', 'crpsnSn', 'itemCode', 'itemCodeNm'])\n",
    "print(df)\n"
   ]
  },
  {
   "cell_type": "code",
   "execution_count": 10,
   "metadata": {},
   "outputs": [],
   "source": [
    "csv_filename = 'tomatoapi.csv'\n",
    "df.to_csv('tomatoapi.csv', index=False)"
   ]
  },
  {
   "cell_type": "code",
   "execution_count": 11,
   "metadata": {},
   "outputs": [
    {
     "data": {
      "text/html": [
       "<div>\n",
       "<style scoped>\n",
       "    .dataframe tbody tr th:only-of-type {\n",
       "        vertical-align: middle;\n",
       "    }\n",
       "\n",
       "    .dataframe tbody tr th {\n",
       "        vertical-align: top;\n",
       "    }\n",
       "\n",
       "    .dataframe thead th {\n",
       "        text-align: right;\n",
       "    }\n",
       "</style>\n",
       "<table border=\"1\" class=\"dataframe\">\n",
       "  <thead>\n",
       "    <tr style=\"text-align: right;\">\n",
       "      <th>fatrCodeNm</th>\n",
       "      <th>measDate</th>\n",
       "      <th>강우감지</th>\n",
       "      <th>내부CO2</th>\n",
       "      <th>내부습도</th>\n",
       "      <th>내부온도</th>\n",
       "      <th>외부온도</th>\n",
       "      <th>외부일사량</th>\n",
       "      <th>외부풍속</th>\n",
       "      <th>외부풍향</th>\n",
       "      <th>이슬점온도</th>\n",
       "      <th>지습</th>\n",
       "      <th>지중온도</th>\n",
       "    </tr>\n",
       "  </thead>\n",
       "  <tbody>\n",
       "    <tr>\n",
       "      <th>0</th>\n",
       "      <td>2021-09-13 00:00:00</td>\n",
       "      <td>NaN</td>\n",
       "      <td>426.0</td>\n",
       "      <td>NaN</td>\n",
       "      <td>20.0</td>\n",
       "      <td>NaN</td>\n",
       "      <td>NaN</td>\n",
       "      <td>NaN</td>\n",
       "      <td>NaN</td>\n",
       "      <td>NaN</td>\n",
       "      <td>NaN</td>\n",
       "      <td>NaN</td>\n",
       "    </tr>\n",
       "    <tr>\n",
       "      <th>1</th>\n",
       "      <td>2021-09-13 01:00:00</td>\n",
       "      <td>NaN</td>\n",
       "      <td>463.0</td>\n",
       "      <td>NaN</td>\n",
       "      <td>20.0</td>\n",
       "      <td>NaN</td>\n",
       "      <td>NaN</td>\n",
       "      <td>NaN</td>\n",
       "      <td>NaN</td>\n",
       "      <td>NaN</td>\n",
       "      <td>NaN</td>\n",
       "      <td>NaN</td>\n",
       "    </tr>\n",
       "    <tr>\n",
       "      <th>2</th>\n",
       "      <td>2021-09-13 02:00:00</td>\n",
       "      <td>NaN</td>\n",
       "      <td>446.0</td>\n",
       "      <td>NaN</td>\n",
       "      <td>20.0</td>\n",
       "      <td>NaN</td>\n",
       "      <td>NaN</td>\n",
       "      <td>NaN</td>\n",
       "      <td>NaN</td>\n",
       "      <td>NaN</td>\n",
       "      <td>NaN</td>\n",
       "      <td>NaN</td>\n",
       "    </tr>\n",
       "    <tr>\n",
       "      <th>3</th>\n",
       "      <td>2021-09-13 03:00:00</td>\n",
       "      <td>NaN</td>\n",
       "      <td>456.0</td>\n",
       "      <td>NaN</td>\n",
       "      <td>20.0</td>\n",
       "      <td>NaN</td>\n",
       "      <td>NaN</td>\n",
       "      <td>NaN</td>\n",
       "      <td>NaN</td>\n",
       "      <td>NaN</td>\n",
       "      <td>NaN</td>\n",
       "      <td>NaN</td>\n",
       "    </tr>\n",
       "    <tr>\n",
       "      <th>4</th>\n",
       "      <td>2021-09-13 04:00:00</td>\n",
       "      <td>NaN</td>\n",
       "      <td>468.0</td>\n",
       "      <td>NaN</td>\n",
       "      <td>19.0</td>\n",
       "      <td>NaN</td>\n",
       "      <td>NaN</td>\n",
       "      <td>NaN</td>\n",
       "      <td>NaN</td>\n",
       "      <td>NaN</td>\n",
       "      <td>NaN</td>\n",
       "      <td>NaN</td>\n",
       "    </tr>\n",
       "  </tbody>\n",
       "</table>\n",
       "</div>"
      ],
      "text/plain": [
       "fatrCodeNm             measDate  강우감지  내부CO2  내부습도  내부온도  외부온도  외부일사량  외부풍속  \\\n",
       "0           2021-09-13 00:00:00   NaN  426.0   NaN  20.0   NaN    NaN   NaN   \n",
       "1           2021-09-13 01:00:00   NaN  463.0   NaN  20.0   NaN    NaN   NaN   \n",
       "2           2021-09-13 02:00:00   NaN  446.0   NaN  20.0   NaN    NaN   NaN   \n",
       "3           2021-09-13 03:00:00   NaN  456.0   NaN  20.0   NaN    NaN   NaN   \n",
       "4           2021-09-13 04:00:00   NaN  468.0   NaN  19.0   NaN    NaN   NaN   \n",
       "\n",
       "fatrCodeNm  외부풍향  이슬점온도  지습  지중온도  \n",
       "0            NaN    NaN NaN   NaN  \n",
       "1            NaN    NaN NaN   NaN  \n",
       "2            NaN    NaN NaN   NaN  \n",
       "3            NaN    NaN NaN   NaN  \n",
       "4            NaN    NaN NaN   NaN  "
      ]
     },
     "execution_count": 11,
     "metadata": {},
     "output_type": "execute_result"
    }
   ],
   "source": [
    "df_pivot = df.pivot_table(index='measDate', columns='fatrCodeNm', values='senVal').reset_index()\n",
    "df_pivot.head()\n"
   ]
  },
  {
   "cell_type": "code",
   "execution_count": 16,
   "metadata": {},
   "outputs": [],
   "source": [
    "columns_to_keep = ['measDate', '내부CO2', '내부온도', '내부습도']\n",
    "df_filtered = df_pivot[columns_to_keep]"
   ]
  },
  {
   "cell_type": "code",
   "execution_count": 17,
   "metadata": {},
   "outputs": [
    {
     "name": "stdout",
     "output_type": "stream",
     "text": [
      "fatrCodeNm             measDate  내부CO2  내부온도  내부습도\n",
      "0           2021-09-13 00:00:00  426.0  20.0   NaN\n",
      "1           2021-09-13 01:00:00  463.0  20.0   NaN\n",
      "2           2021-09-13 02:00:00  446.0  20.0   NaN\n",
      "3           2021-09-13 03:00:00  456.0  20.0   NaN\n",
      "4           2021-09-13 04:00:00  468.0  19.0   NaN\n"
     ]
    }
   ],
   "source": [
    "print(df_filtered.head())"
   ]
  },
  {
   "cell_type": "code",
   "execution_count": 18,
   "metadata": {},
   "outputs": [
    {
     "name": "stderr",
     "output_type": "stream",
     "text": [
      "C:\\Users\\Song\\AppData\\Local\\Temp\\ipykernel_3088\\477481889.py:1: SettingWithCopyWarning: \n",
      "A value is trying to be set on a copy of a slice from a DataFrame\n",
      "\n",
      "See the caveats in the documentation: https://pandas.pydata.org/pandas-docs/stable/user_guide/indexing.html#returning-a-view-versus-a-copy\n",
      "  df_filtered.fillna(0, inplace=True)\n"
     ]
    }
   ],
   "source": [
    "df_filtered.fillna(0, inplace=True)"
   ]
  },
  {
   "cell_type": "code",
   "execution_count": 19,
   "metadata": {},
   "outputs": [
    {
     "name": "stdout",
     "output_type": "stream",
     "text": [
      "fatrCodeNm             measDate  내부CO2  내부온도  내부습도\n",
      "0           2021-09-13 00:00:00  426.0  20.0   0.0\n",
      "1           2021-09-13 01:00:00  463.0  20.0   0.0\n",
      "2           2021-09-13 02:00:00  446.0  20.0   0.0\n",
      "3           2021-09-13 03:00:00  456.0  20.0   0.0\n",
      "4           2021-09-13 04:00:00  468.0  19.0   0.0\n"
     ]
    }
   ],
   "source": [
    "print(df_filtered.head())\n"
   ]
  },
  {
   "cell_type": "code",
   "execution_count": 21,
   "metadata": {},
   "outputs": [],
   "source": [
    "csv_filename = 'data1.csv'\n",
    "df_filtered.to_csv('data1.csv', index=False)"
   ]
  },
  {
   "cell_type": "code",
   "execution_count": null,
   "metadata": {},
   "outputs": [],
   "source": []
  }
 ],
 "metadata": {
  "kernelspec": {
   "display_name": "jungwoo",
   "language": "python",
   "name": "python3"
  },
  "language_info": {
   "codemirror_mode": {
    "name": "ipython",
    "version": 3
   },
   "file_extension": ".py",
   "mimetype": "text/x-python",
   "name": "python",
   "nbconvert_exporter": "python",
   "pygments_lexer": "ipython3",
   "version": "3.12.6"
  }
 },
 "nbformat": 4,
 "nbformat_minor": 2
}
