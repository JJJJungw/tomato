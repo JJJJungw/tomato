{
 "cells": [
  {
   "cell_type": "code",
   "execution_count": 136,
   "metadata": {},
   "outputs": [],
   "source": [
    "import requests\n",
    "import pprint\n",
    "import json\n",
    "import pandas as pd     "
   ]
  },
  {
   "cell_type": "code",
   "execution_count": 137,
   "metadata": {},
   "outputs": [
    {
     "name": "stderr",
     "output_type": "stream",
     "text": [
      "C:\\Users\\Song\\AppData\\Local\\Temp\\ipykernel_12824\\3380374531.py:5: DeprecationWarning: ssl.OP_NO_SSL*/ssl.OP_NO_TLS* options are deprecated\n",
      "  ssl_context.options |= ssl.OP_NO_TLSv1 | ssl.OP_NO_TLSv1_1  # TLS 버전 1.2 이상 사용\n"
     ]
    }
   ],
   "source": [
    "import ssl\n",
    "import urllib3\n",
    "\n",
    "ssl_context = ssl.create_default_context()\n",
    "ssl_context.options |= ssl.OP_NO_TLSv1 | ssl.OP_NO_TLSv1_1  # TLS 버전 1.2 이상 사용\n",
    "http = urllib3.PoolManager(ssl_context=ssl_context)\n"
   ]
  },
  {
   "cell_type": "code",
   "execution_count": 138,
   "metadata": {},
   "outputs": [
    {
     "name": "stdout",
     "output_type": "stream",
     "text": [
      "Requirement already satisfied: certifi in c:\\users\\song\\appdata\\local\\anaconda3\\envs\\jungwoo\\lib\\site-packages (2024.8.30)\n",
      "Note: you may need to restart the kernel to use updated packages.\n"
     ]
    }
   ],
   "source": [
    "pip install --upgrade certifi\n"
   ]
  },
  {
   "cell_type": "code",
   "execution_count": 139,
   "metadata": {},
   "outputs": [
    {
     "name": "stdout",
     "output_type": "stream",
     "text": [
      "                                                   item\n",
      "0     {'inTp': 14.99333333, 'inHd': 88.3625, 'measDt...\n",
      "1     {'inTp': 14.57916667, 'inHd': 87.69333333, 'me...\n",
      "2     {'inTp': 13.9, 'inHd': 86.86583333, 'measDtStr...\n",
      "3     {'inTp': 13.61666667, 'inHd': 86.12416667, 'me...\n",
      "4     {'inTp': 13.83416667, 'inHd': 88.73416667, 'me...\n",
      "...                                                 ...\n",
      "6317  {'inTp': 0.0, 'inHd': 0.0, 'measDtStr': '20180...\n",
      "6318  {'inTp': 0.0, 'inHd': 0.0, 'measDtStr': '20180...\n",
      "6319  {'inTp': 0.0, 'inHd': 0.0, 'measDtStr': '20180...\n",
      "6320  {'inTp': 0.0, 'inHd': 0.0, 'measDtStr': '20180...\n",
      "6321  {'inTp': 0.0, 'inHd': 0.0, 'measDtStr': '20180...\n",
      "\n",
      "[6322 rows x 1 columns]\n"
     ]
    }
   ],
   "source": [
    "import requests\n",
    "import pandas as pd\n",
    "\n",
    "# API URL\n",
    "#전북 익산\n",
    "\n",
    "url = 'http://apis.data.go.kr/1390000/SmartFarmdata/envdatarqst?serviceKey=%2BI0HNxU77s40DXBKvkkNWXTCMnvbekcwiKpLxPRY7tMNkohAsUZ5jfYUG0em7RAQ%2B30DyI%2Fwl4T4cGF7FjbwYw%3D%3D&pageSize=100000&pageNo=1&searchFrmhsCode=39&returnType=json'\n",
    "\n",
    "# API 요청\n",
    "response = requests.get(url)\n",
    "\n",
    "# JSON 데이터로 변환\n",
    "data = response.json()\n",
    "\n",
    "# 'response' 내부의 'body'와 'items'에 데이터가 있는지 확인 후 추출\n",
    "if 'response' in data and 'body' in data['response'] and 'items' in data['response']['body']:\n",
    "    items = data['response']['body']['items']  # items에서 실제 데이터 추출\n",
    "    df = pd.DataFrame(items)  # DataFrame으로 변환\n",
    "    \n",
    "    # DataFrame 출력\n",
    "    print(df)\n",
    "    \n",
    "    # 필요시 CSV 파일로 저장\n",
    "else:\n",
    "    print(\"No data available or unexpected data structure.\")\n"
   ]
  },
  {
   "cell_type": "code",
   "execution_count": 140,
   "metadata": {},
   "outputs": [
    {
     "name": "stdout",
     "output_type": "stream",
     "text": [
      "           inTp       inHd       measDtStr  otmsuplyqy  acSlrdQy frmhsId  \\\n",
      "0     14.993333  88.362500  20171226040000    0.000000       0.0      39   \n",
      "1     14.579167  87.693333  20171226050000    0.000000       0.0      39   \n",
      "2     13.900000  86.865833  20171226060000    0.000000       0.0      39   \n",
      "3     13.616667  86.124167  20171226070000    0.000000       0.0      39   \n",
      "4     13.834167  88.734167  20171226080000    0.000000       0.0      39   \n",
      "...         ...        ...             ...         ...       ...     ...   \n",
      "6317   0.000000   0.000000  20180701000000   96.722222       0.0      39   \n",
      "6318   0.000000   0.000000  20180702000000   93.121212       0.0      39   \n",
      "6319   0.000000   0.000000  20180703000000   94.684783       0.0      39   \n",
      "6320   0.000000   0.000000  20180704000000   95.711538       0.0      39   \n",
      "6321   0.000000   0.000000  20180705000000    0.000000       0.0      39   \n",
      "\n",
      "      cunt   ph     outTp     outWs  daysuplyqy  inCo2        ec  \n",
      "0      0.0  0.0 -0.865000  0.043333         0.0    0.0  0.000000  \n",
      "1      0.0  0.0 -1.538333  0.000000         0.0    0.0  0.000000  \n",
      "2      0.0  0.0 -2.390000  0.000000         0.0    0.0  0.000000  \n",
      "3      0.0  0.0 -2.930000  0.040000         0.0    0.0  0.000000  \n",
      "4      0.0  0.0 -2.483333  0.126667         0.0    0.0  0.000000  \n",
      "...    ...  ...       ...       ...         ...    ...       ...  \n",
      "6317   9.0  5.5  0.000000  0.000000         0.0    0.0  2.298494  \n",
      "6318  11.5  5.5  0.000000  0.000000         0.0    0.0  2.285735  \n",
      "6319  23.0  5.5  0.000000  0.000000         0.0    0.0  2.257928  \n",
      "6320  26.0  5.5  0.000000  0.000000         0.0    0.0  2.248734  \n",
      "6321   0.0  5.5  0.000000  0.000000         0.0    0.0  2.300000  \n",
      "\n",
      "[6322 rows x 13 columns]\n"
     ]
    }
   ],
   "source": [
    "import ast\n",
    "import pandas as pd\n",
    "\n",
    "# 데이터 유형 확인 후 처리\n",
    "def try_parse(item):\n",
    "    # 이미 딕셔너리인 경우 그대로 반환\n",
    "    if isinstance(item, dict):\n",
    "        return item\n",
    "    # 문자열인 경우 파싱 시도\n",
    "    try:\n",
    "        return ast.literal_eval(item)\n",
    "    except (ValueError, SyntaxError):\n",
    "        return item\n",
    "\n",
    "# 각 행의 데이터를 파싱\n",
    "df_parsed = df['item'].apply(try_parse)\n",
    "\n",
    "# 딕셔너리 데이터를 열로 확장\n",
    "df_expanded = pd.json_normalize(df_parsed)\n",
    "\n",
    "# 변환된 데이터 출력\n",
    "print(df_expanded)\n",
    "\n",
    "# 필요시 CSV로 저장\n",
    "df_expanded.to_csv('전북담양환경데이터_변환.csv', index=False, encoding='utf-8-sig')\n"
   ]
  },
  {
   "cell_type": "code",
   "execution_count": 141,
   "metadata": {},
   "outputs": [
    {
     "name": "stdout",
     "output_type": "stream",
     "text": [
      "   item.frmYear item.frmMonth  item.frmAr item.frmhsId  item.outtrn  \\\n",
      "0          2017             8      1700.0           39          0.0   \n",
      "1          2017             8      1700.0           39          0.0   \n",
      "2          2017             9      1700.0           39          0.0   \n",
      "3          2017             9      1700.0           39          0.0   \n",
      "4          2017             9      1700.0           39          0.0   \n",
      "5          2017             9      1700.0           39          0.0   \n",
      "6          2017            10      1700.0           39          0.0   \n",
      "7          2017            10      1700.0           39          0.0   \n",
      "8          2017            10      1700.0           39          0.0   \n",
      "9          2017            10      1700.0           39        402.0   \n",
      "10         2017            10      1700.0           39      10524.0   \n",
      "11         2017            11      1700.0           39       4408.0   \n",
      "12         2017            11      1700.0           39       4098.0   \n",
      "13         2017            11      1700.0           39       3056.0   \n",
      "14         2017            11      1700.0           39       2685.0   \n",
      "15         2017            12      1700.0           39       2568.0   \n",
      "16         2017            12      1700.0           39       2377.0   \n",
      "17         2017            12      1700.0           39       3594.0   \n",
      "18         2017            12      1700.0           39       1677.0   \n",
      "19         2018             1      1700.0           39       2559.0   \n",
      "20         2018             1      1700.0           39       1326.0   \n",
      "21         2018             1      1700.0           39       2525.0   \n",
      "22         2018             1      1700.0           39       1296.0   \n",
      "23         2018             1      1700.0           39       2244.0   \n",
      "24         2018             2      1700.0           39        966.0   \n",
      "25         2018             2      1700.0           39       1131.0   \n",
      "26         2018             2      1700.0           39       1791.0   \n",
      "27         2018             2      1700.0           39       2759.0   \n",
      "28         2018             3      1700.0           39       3236.0   \n",
      "29         2018             3      1700.0           39       4462.0   \n",
      "30         2018             3      1700.0           39       1932.0   \n",
      "31         2018             3      1700.0           39       3070.0   \n",
      "32         2018             4      1700.0           39       3878.0   \n",
      "33         2018             4      1700.0           39       4266.0   \n",
      "34         2018             4      1700.0           39       2507.0   \n",
      "35         2018             4      1700.0           39       5240.0   \n",
      "36         2018             5      1700.0           39       5743.0   \n",
      "37         2018             5      1700.0           39       4850.0   \n",
      "38         2018             5      1700.0           39       5010.0   \n",
      "39         2018             5      1700.0           39       5891.0   \n",
      "40         2018             5      1700.0           39       3052.0   \n",
      "41         2018             6      1700.0           39       2093.0   \n",
      "42         2018             6      1700.0           39       5127.0   \n",
      "43         2018             6      1700.0           39       3112.0   \n",
      "44         2018             6      1700.0           39       2180.0   \n",
      "45         2018             7      1700.0           39          0.0   \n",
      "\n",
      "   item.frmWeek  \n",
      "0            34  \n",
      "1            35  \n",
      "2            36  \n",
      "3            37  \n",
      "4            38  \n",
      "5            39  \n",
      "6            40  \n",
      "7            41  \n",
      "8            42  \n",
      "9            43  \n",
      "10           44  \n",
      "11           45  \n",
      "12           46  \n",
      "13           47  \n",
      "14           48  \n",
      "15           49  \n",
      "16           50  \n",
      "17           51  \n",
      "18           52  \n",
      "19            1  \n",
      "20            2  \n",
      "21            3  \n",
      "22            4  \n",
      "23            5  \n",
      "24            6  \n",
      "25            7  \n",
      "26            8  \n",
      "27            9  \n",
      "28           10  \n",
      "29           11  \n",
      "30           12  \n",
      "31           13  \n",
      "32           14  \n",
      "33           15  \n",
      "34           16  \n",
      "35           17  \n",
      "36           18  \n",
      "37           19  \n",
      "38           20  \n",
      "39           21  \n",
      "40           22  \n",
      "41           23  \n",
      "42           24  \n",
      "43           25  \n",
      "44           26  \n",
      "45           27  \n",
      "good\n"
     ]
    },
    {
     "name": "stderr",
     "output_type": "stream",
     "text": [
      "C:\\Users\\Song\\AppData\\Local\\Temp\\ipykernel_12824\\3573403808.py:31: FutureWarning: DataFrame.applymap has been deprecated. Use DataFrame.map instead.\n",
      "  df_parsed = df2.applymap(try_parse)\n"
     ]
    }
   ],
   "source": [
    "import requests\n",
    "import pandas as pd\n",
    "import ast\n",
    "\n",
    "# API URL\n",
    "url = 'http://apis.data.go.kr/1390000/SmartFarmdata/prddatarqst?serviceKey=%2BI0HNxU77s40DXBKvkkNWXTCMnvbekcwiKpLxPRY7tMNkohAsUZ5jfYUG0em7RAQ%2B30DyI%2Fwl4T4cGF7FjbwYw%3D%3D&pageSize=100000&pageNo=1&searchFrmhsCode=39&returnType=json'\n",
    "\n",
    "# API 요청\n",
    "response2 = requests.get(url)\n",
    "\n",
    "# JSON 데이터로 변환\n",
    "data2 = response2.json()\n",
    "\n",
    "# 'response' 내부의 'body'와 'items'에 데이터가 있는지 확인 후 추출\n",
    "if 'response' in data2 and 'body' in data2['response'] and 'items' in data2['response']['body']:\n",
    "    items = data2['response']['body']['items']  # items에서 실제 데이터 추출\n",
    "    df2 = pd.DataFrame(items)  # DataFrame으로 변환\n",
    "    \n",
    "    # 데이터 유형 확인 후 처리\n",
    "    def try_parse(item):\n",
    "        # 이미 딕셔너리인 경우 그대로 반환\n",
    "        if isinstance(item, dict):\n",
    "            return item\n",
    "        # 문자열인 경우 파싱 시도\n",
    "        try:\n",
    "            return ast.literal_eval(item)\n",
    "        except (ValueError, SyntaxError):\n",
    "            return item\n",
    "\n",
    "    # 각 행의 데이터를 파싱\n",
    "    df_parsed = df2.applymap(try_parse)\n",
    "\n",
    "    # 딕셔너리 데이터를 열로 확장\n",
    "    df_expanded = pd.json_normalize(df_parsed.to_dict(orient='records'))\n",
    "\n",
    "    # 변환된 데이터 출력\n",
    "    print(df_expanded)\n",
    "\n",
    "    # 필요시 CSV 파일로 저장\n",
    "    df_expanded.to_csv('전북담양생산량_변환.csv', index=False, encoding='utf-8-sig')\n",
    "    print(\"good\")\n",
    "else:\n",
    "    print(\"No data available or unexpected data structure.\")\n"
   ]
  },
  {
   "cell_type": "code",
   "execution_count": null,
   "metadata": {},
   "outputs": [],
   "source": []
  }
 ],
 "metadata": {
  "kernelspec": {
   "display_name": "jungwoo",
   "language": "python",
   "name": "python3"
  },
  "language_info": {
   "codemirror_mode": {
    "name": "ipython",
    "version": 3
   },
   "file_extension": ".py",
   "mimetype": "text/x-python",
   "name": "python",
   "nbconvert_exporter": "python",
   "pygments_lexer": "ipython3",
   "version": "3.12.6"
  }
 },
 "nbformat": 4,
 "nbformat_minor": 2
}
