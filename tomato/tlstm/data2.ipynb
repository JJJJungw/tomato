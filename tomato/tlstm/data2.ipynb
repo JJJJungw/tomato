{
 "cells": [
  {
   "cell_type": "code",
   "execution_count": 2,
   "metadata": {},
   "outputs": [
    {
     "name": "stdout",
     "output_type": "stream",
     "text": [
      "     statusCode statusMessage         fcltyId  crpsnSn itemCode itemCodeNm  \\\n",
      "0            00   NORMAL_CODE  PFS_0000001_01       79   080300        토마토   \n",
      "1          None          None  PFS_0000001_01       79   080300        토마토   \n",
      "2          None          None  PFS_0000001_01       79   080300        토마토   \n",
      "3          None          None  PFS_0000001_01       79   080300        토마토   \n",
      "4          None          None  PFS_0000001_01       79   080300        토마토   \n",
      "...         ...           ...             ...      ...      ...        ...   \n",
      "7911       None          None  PFS_0000001_01       79   080300        토마토   \n",
      "7912       None          None  PFS_0000001_01       79   080300        토마토   \n",
      "7913       None          None  PFS_0000001_01       79   080300        토마토   \n",
      "7914       None          None  PFS_0000001_01       79   080300        토마토   \n",
      "7915       None          None  PFS_0000001_01       79   080300        토마토   \n",
      "\n",
      "                 measDate fatrCode fatrCodeNm  senVal  \n",
      "0     2015-12-16 12:00:00       CI      내부CO2   410.0  \n",
      "1     2015-12-16 14:00:00       CI      내부CO2   411.0  \n",
      "2     2015-12-16 15:00:00       CI      내부CO2   400.0  \n",
      "3     2015-12-16 16:00:00       CI      내부CO2   396.0  \n",
      "4     2015-12-16 18:00:00       CI      내부CO2   438.0  \n",
      "...                   ...      ...        ...     ...  \n",
      "7911  2016-12-31 21:00:00       CI      내부CO2   509.0  \n",
      "7912  2016-12-31 22:00:00       CI      내부CO2   522.0  \n",
      "7913  2016-12-31 23:00:00       CI      내부CO2   519.0  \n",
      "7914  2016-12-31 23:00:00       HI       내부습도    88.0  \n",
      "7915  2016-12-31 23:00:00       TI       내부온도     9.0  \n",
      "\n",
      "[7916 rows x 10 columns]\n"
     ]
    }
   ],
   "source": [
    "import requests\n",
    "import pandas as pd \n",
    "\n",
    "url = 'https://www.smartfarmkorea.net/Agree_WS/webservices/DataMartItemRestService/getEnvInfoDataList/d5b617235d814dfa95a59384074f334e/PFS_0000001_01/79/080300/20150902/20161231'\n",
    "response = requests.get(url)\n",
    "data = response.json()\n",
    "df = pd.DataFrame(data)\n",
    "print(df)"
   ]
  },
  {
   "cell_type": "code",
   "execution_count": 17,
   "metadata": {},
   "outputs": [
    {
     "name": "stdout",
     "output_type": "stream",
     "text": [
      "                 measDate fatrCode fatrCodeNm  senVal\n",
      "0     2015-12-16 12:00:00       CI      내부CO2   410.0\n",
      "1     2015-12-16 14:00:00       CI      내부CO2   411.0\n",
      "2     2015-12-16 15:00:00       CI      내부CO2   400.0\n",
      "3     2015-12-16 16:00:00       CI      내부CO2   396.0\n",
      "4     2015-12-16 18:00:00       CI      내부CO2   438.0\n",
      "...                   ...      ...        ...     ...\n",
      "7911  2016-12-31 21:00:00       CI      내부CO2   509.0\n",
      "7912  2016-12-31 22:00:00       CI      내부CO2   522.0\n",
      "7913  2016-12-31 23:00:00       CI      내부CO2   519.0\n",
      "7914  2016-12-31 23:00:00       HI       내부습도    88.0\n",
      "7915  2016-12-31 23:00:00       TI       내부온도     9.0\n",
      "\n",
      "[7916 rows x 4 columns]\n"
     ]
    }
   ],
   "source": [
    "df = df.drop(columns=['statusCode', 'statusMessage', 'fcltyId', 'crpsnSn', 'itemCode', 'itemCodeNm'])\n",
    "print(df)"
   ]
  },
  {
   "cell_type": "code",
   "execution_count": 18,
   "metadata": {},
   "outputs": [
    {
     "data": {
      "text/html": [
       "<div>\n",
       "<style scoped>\n",
       "    .dataframe tbody tr th:only-of-type {\n",
       "        vertical-align: middle;\n",
       "    }\n",
       "\n",
       "    .dataframe tbody tr th {\n",
       "        vertical-align: top;\n",
       "    }\n",
       "\n",
       "    .dataframe thead th {\n",
       "        text-align: right;\n",
       "    }\n",
       "</style>\n",
       "<table border=\"1\" class=\"dataframe\">\n",
       "  <thead>\n",
       "    <tr style=\"text-align: right;\">\n",
       "      <th>fatrCodeNm</th>\n",
       "      <th>measDate</th>\n",
       "      <th>내부CO2</th>\n",
       "      <th>내부습도</th>\n",
       "      <th>내부온도</th>\n",
       "    </tr>\n",
       "  </thead>\n",
       "  <tbody>\n",
       "    <tr>\n",
       "      <th>0</th>\n",
       "      <td>2015-12-16 12:00:00</td>\n",
       "      <td>410.0</td>\n",
       "      <td>NaN</td>\n",
       "      <td>NaN</td>\n",
       "    </tr>\n",
       "    <tr>\n",
       "      <th>1</th>\n",
       "      <td>2015-12-16 14:00:00</td>\n",
       "      <td>411.0</td>\n",
       "      <td>NaN</td>\n",
       "      <td>NaN</td>\n",
       "    </tr>\n",
       "    <tr>\n",
       "      <th>2</th>\n",
       "      <td>2015-12-16 15:00:00</td>\n",
       "      <td>400.0</td>\n",
       "      <td>NaN</td>\n",
       "      <td>NaN</td>\n",
       "    </tr>\n",
       "    <tr>\n",
       "      <th>3</th>\n",
       "      <td>2015-12-16 16:00:00</td>\n",
       "      <td>396.0</td>\n",
       "      <td>NaN</td>\n",
       "      <td>NaN</td>\n",
       "    </tr>\n",
       "    <tr>\n",
       "      <th>4</th>\n",
       "      <td>2015-12-16 18:00:00</td>\n",
       "      <td>438.0</td>\n",
       "      <td>NaN</td>\n",
       "      <td>NaN</td>\n",
       "    </tr>\n",
       "  </tbody>\n",
       "</table>\n",
       "</div>"
      ],
      "text/plain": [
       "fatrCodeNm             measDate  내부CO2  내부습도  내부온도\n",
       "0           2015-12-16 12:00:00  410.0   NaN   NaN\n",
       "1           2015-12-16 14:00:00  411.0   NaN   NaN\n",
       "2           2015-12-16 15:00:00  400.0   NaN   NaN\n",
       "3           2015-12-16 16:00:00  396.0   NaN   NaN\n",
       "4           2015-12-16 18:00:00  438.0   NaN   NaN"
      ]
     },
     "execution_count": 18,
     "metadata": {},
     "output_type": "execute_result"
    }
   ],
   "source": [
    "df_pivot = df.pivot_table(index='measDate', columns='fatrCodeNm', values='senVal').reset_index()\n",
    "df_pivot.head()\n"
   ]
  },
  {
   "cell_type": "code",
   "execution_count": 19,
   "metadata": {},
   "outputs": [
    {
     "data": {
      "text/plain": [
       "Index(['measDate', '내부CO2', '내부습도', '내부온도'], dtype='object', name='fatrCodeNm')"
      ]
     },
     "execution_count": 19,
     "metadata": {},
     "output_type": "execute_result"
    }
   ],
   "source": [
    "column_names = df_pivot.columns\n",
    "column_names"
   ]
  },
  {
   "cell_type": "code",
   "execution_count": 22,
   "metadata": {},
   "outputs": [],
   "source": [
    "df.fillna(0, inplace=True)\n",
    "df2=df"
   ]
  },
  {
   "cell_type": "code",
   "execution_count": 25,
   "metadata": {},
   "outputs": [],
   "source": [
    "csv_filename = 'data2.csv'\n",
    "df_pivot.to_csv(csv_filename, index=False)"
   ]
  },
  {
   "cell_type": "code",
   "execution_count": null,
   "metadata": {},
   "outputs": [],
   "source": []
  }
 ],
 "metadata": {
  "kernelspec": {
   "display_name": "jungwoo",
   "language": "python",
   "name": "python3"
  },
  "language_info": {
   "codemirror_mode": {
    "name": "ipython",
    "version": 3
   },
   "file_extension": ".py",
   "mimetype": "text/x-python",
   "name": "python",
   "nbconvert_exporter": "python",
   "pygments_lexer": "ipython3",
   "version": "3.12.6"
  }
 },
 "nbformat": 4,
 "nbformat_minor": 2
}
